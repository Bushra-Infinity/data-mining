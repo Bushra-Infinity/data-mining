{
  "nbformat": 4,
  "nbformat_minor": 0,
  "metadata": {
    "colab": {
      "provenance": [],
      "authorship_tag": "ABX9TyOb+YValPFYfYzo2Z2QoCLd",
      "include_colab_link": true
    },
    "kernelspec": {
      "name": "python3",
      "display_name": "Python 3"
    },
    "language_info": {
      "name": "python"
    }
  },
  "cells": [
    {
      "cell_type": "markdown",
      "metadata": {
        "id": "view-in-github",
        "colab_type": "text"
      },
      "source": [
        "<a href=\"https://colab.research.google.com/github/Bushra-Infinity/data-mining/blob/main/W1HW.ipynb\" target=\"_parent\"><img src=\"https://colab.research.google.com/assets/colab-badge.svg\" alt=\"Open In Colab\"/></a>"
      ]
    },
    {
      "cell_type": "code",
      "execution_count": null,
      "metadata": {
        "id": "Ufw9fKtt06Sa"
      },
      "outputs": [],
      "source": []
    },
    {
      "cell_type": "code",
      "source": [
        "a = 10\n",
        "b = 5\n",
        "sum = a+b\n",
        "difference = a-b\n",
        "product = a*b\n",
        "division = a/b\n",
        "\n",
        "print(\"Sum: \", sum)\n",
        "print(\"Difference: \",difference)\n",
        "print(\"Product: \", product)\n",
        "print(\"Division: \",division)"
      ],
      "metadata": {
        "colab": {
          "base_uri": "https://localhost:8080/"
        },
        "id": "ox_GyXrZ5sIU",
        "outputId": "18f7f7ec-3aa3-4817-d77b-e273f278b206"
      },
      "execution_count": 3,
      "outputs": [
        {
          "output_type": "stream",
          "name": "stdout",
          "text": [
            "Sum:  15\n",
            "Difference:  5\n",
            "Product:  50\n",
            "Division:  2.0\n"
          ]
        }
      ]
    },
    {
      "cell_type": "code",
      "source": [
        "print(f\"The sum of the two number {a}, {b} is {sum}\")"
      ],
      "metadata": {
        "colab": {
          "base_uri": "https://localhost:8080/"
        },
        "id": "0s4_hoK06SfV",
        "outputId": "6520cab1-0b9b-4b24-8e52-05e97f24cc05"
      },
      "execution_count": 5,
      "outputs": [
        {
          "output_type": "stream",
          "name": "stdout",
          "text": [
            "The sum of the two number 10, 5 is 15\n"
          ]
        }
      ]
    },
    {
      "cell_type": "code",
      "source": [
        "x = 13//2\n",
        "print(x)\n",
        "y= 13%2\n",
        "print(y)"
      ],
      "metadata": {
        "colab": {
          "base_uri": "https://localhost:8080/"
        },
        "id": "YI_47JBA9gye",
        "outputId": "2f6e1a8b-093a-419e-d845-0e5c8e41e356"
      },
      "execution_count": 10,
      "outputs": [
        {
          "output_type": "stream",
          "name": "stdout",
          "text": [
            "6\n",
            "1\n"
          ]
        }
      ]
    },
    {
      "cell_type": "code",
      "source": [],
      "metadata": {
        "id": "yNnI36GqBhb3"
      },
      "execution_count": null,
      "outputs": []
    },
    {
      "cell_type": "code",
      "source": [
        "# Boolean variables and comparisons\n",
        "x = 10\n",
        "y = 5\n",
        "\n",
        "is_greater = x > y\n",
        "is_equal = x==y\n",
        "is_not_equal = x !=y\n",
        "\n",
        "print(\"is x greater than y?\" , is_greater)\n",
        "print(\"is x equal y?\" , is_equal)\n",
        "print(\"is x not equal to y?\" , is_not_equal )\n",
        "\n"
      ],
      "metadata": {
        "colab": {
          "base_uri": "https://localhost:8080/"
        },
        "id": "AqxFBoGC9nwY",
        "outputId": "bfd8c4e0-b8f5-48f4-fcea-5bcb3b5735c3"
      },
      "execution_count": null,
      "outputs": [
        {
          "output_type": "stream",
          "name": "stdout",
          "text": [
            "is x greater than y? True\n",
            "is x equal y? False\n",
            "is x not equal to y? True\n"
          ]
        }
      ]
    },
    {
      "cell_type": "code",
      "source": [
        "# Variable assignment\n",
        "name = \"Alaa\"\n",
        "age = 55\n",
        "is_professor = True\n",
        "\n",
        "print (f\"{name}'s age {age}. He is a Professor is {is_professor}\")\n"
      ],
      "metadata": {
        "colab": {
          "base_uri": "https://localhost:8080/"
        },
        "id": "ovzLVCq-BqjM",
        "outputId": "df20805f-3c1a-41cf-fd7c-80df6080a5d1"
      },
      "execution_count": 12,
      "outputs": [
        {
          "output_type": "stream",
          "name": "stdout",
          "text": [
            "Alaa's age 55. He is a Professor is True\n"
          ]
        }
      ]
    },
    {
      "cell_type": "code",
      "source": [
        "def greet(name):\n",
        "  return \"Hello,\" + name +\"!\"\n",
        "\n",
        "myname = input(\"Enter your name\")\n",
        "greet(myname)\n",
        "\n"
      ],
      "metadata": {
        "colab": {
          "base_uri": "https://localhost:8080/",
          "height": 52
        },
        "id": "dCQFjTrsDM-7",
        "outputId": "f12564a9-c62f-45dc-b150-55c1f69fa7aa"
      },
      "execution_count": 24,
      "outputs": [
        {
          "name": "stdout",
          "output_type": "stream",
          "text": [
            "Enter your nameAlaa\n"
          ]
        },
        {
          "output_type": "execute_result",
          "data": {
            "text/plain": [
              "'Hello,Alaa!'"
            ],
            "application/vnd.google.colaboratory.intrinsic+json": {
              "type": "string"
            }
          },
          "metadata": {},
          "execution_count": 24
        }
      ]
    },
    {
      "cell_type": "code",
      "source": [
        "def add_number(a,b):\n",
        "  return a+b\n",
        "\n",
        "a = int(input(\"enter first number:\"))\n",
        "b = int(input(\"enter second number:\"))\n",
        "\n",
        "addition_value = add_number(a,b)\n",
        "print(f\"The result of addition for {a}, {b} is {addition_value}\")\n",
        "\n"
      ],
      "metadata": {
        "colab": {
          "base_uri": "https://localhost:8080/"
        },
        "id": "700iJaMnJegy",
        "outputId": "ad1a2512-d0f4-4ce2-dd43-368589599bec"
      },
      "execution_count": 33,
      "outputs": [
        {
          "output_type": "stream",
          "name": "stdout",
          "text": [
            "enter first number:2\n",
            "enter second number:3\n",
            "The result of addition for 2, 3 is 5\n"
          ]
        }
      ]
    },
    {
      "cell_type": "code",
      "source": [],
      "metadata": {
        "id": "wAqPiiaRM6DC"
      },
      "execution_count": null,
      "outputs": []
    },
    {
      "cell_type": "code",
      "source": [
        "def add_number(a,b):\n",
        "  return a+b\n",
        "\n",
        "a = eval(input(\"enter first number:\"))\n",
        "b = eval(input(\"enter second number:\"))\n",
        "\n",
        "addition_value = add_number(a,b)\n",
        "print(f\"The result of addition for {a}, {b} is {addition_value}\")\n",
        "\n"
      ],
      "metadata": {
        "colab": {
          "base_uri": "https://localhost:8080/"
        },
        "outputId": "6d6c983d-0936-48d9-e71a-0a070b994fd9",
        "id": "Nj8TFpMbM7FD"
      },
      "execution_count": 35,
      "outputs": [
        {
          "output_type": "stream",
          "name": "stdout",
          "text": [
            "enter first number:-4.5\n",
            "enter second number:10\n",
            "The result of addition for -4.5, 10 is 5.5\n"
          ]
        }
      ]
    },
    {
      "cell_type": "code",
      "source": [
        "# Working with strings\n",
        "message = \"Hello, World\"\n",
        "length = len(message)\n",
        "uppercase = message.upper()\n",
        "lowercase = message.lower()\n",
        "substring = message[7:12]\n",
        "\n",
        "print(\"Original message: \", message)\n",
        "print(\"The length is: \", length)\n",
        "print(\"Upper case: \", uppercase)\n",
        "print(\"Lower case: \", lowercase)\n",
        "print(\"Part of the message is: \", substring)\n",
        "\n"
      ],
      "metadata": {
        "colab": {
          "base_uri": "https://localhost:8080/"
        },
        "id": "rf8q26ngLo2Z",
        "outputId": "76b6f1c1-3807-4414-a150-f09fcf33af82"
      },
      "execution_count": 2,
      "outputs": [
        {
          "output_type": "stream",
          "name": "stdout",
          "text": [
            "Original message:  Hello, World\n",
            "The length is:  12\n",
            "Upper case:  HELLO, WORLD\n",
            "Lower case:  hello, world\n",
            "Part of the message is:  World\n"
          ]
        }
      ]
    },
    {
      "cell_type": "code",
      "source": [
        "# Basic input example\n",
        "Last = input(\"Enter the last name, last name: \")\n",
        "First = input(\"Enter the last name, first name:\")\n",
        "\n",
        "print(f\"{Last}, {First}\")\n",
        "\n",
        ""
      ],
      "metadata": {
        "colab": {
          "base_uri": "https://localhost:8080/"
        },
        "id": "Wy64GL86NxRp",
        "outputId": "5a0e3679-c4c6-4ae3-c86d-6ed636832dd4"
      },
      "execution_count": 7,
      "outputs": [
        {
          "output_type": "stream",
          "name": "stdout",
          "text": [
            "Enter the last name, last name: Sheta\n",
            "Enter the last name, first name:Alaa\n",
            "Sheta, Alaa\n"
          ]
        }
      ]
    },
    {
      "cell_type": "code",
      "source": [
        "# Numeric input example\n",
        "age = int(input(\"Enter your age:\"))\n",
        "print(\"You will be\", age + 1, \"years old next year.\")\n"
      ],
      "metadata": {
        "colab": {
          "base_uri": "https://localhost:8080/"
        },
        "id": "Mt-c0kzDQBN0",
        "outputId": "c5882142-ee27-4f32-d84d-925274124620"
      },
      "execution_count": 8,
      "outputs": [
        {
          "output_type": "stream",
          "name": "stdout",
          "text": [
            "Enter your age:55\n",
            "You will be 56 years old next year.\n"
          ]
        }
      ]
    },
    {
      "cell_type": "code",
      "source": [
        "# Calculations with input\n",
        "num1 = float(input(\"Enter a number:\"))\n",
        "num2 = float(input(\"Enter another number:\"))\n",
        "sum_result = num1 + num2\n",
        "print(\"Sum:\",sum_result)\n"
      ],
      "metadata": {
        "colab": {
          "base_uri": "https://localhost:8080/"
        },
        "id": "bub_Opx_QyCE",
        "outputId": "a9351899-dbd7-49a9-b379-ae17c10ec1ce"
      },
      "execution_count": 9,
      "outputs": [
        {
          "output_type": "stream",
          "name": "stdout",
          "text": [
            "Enter a number:12\n",
            "Enter another number:14\n",
            "Sum: 26.0\n"
          ]
        }
      ]
    },
    {
      "cell_type": "code",
      "source": [
        "# String concatenation with input\n",
        "city = input(\"Enter your city:\")\n",
        "country = input(\"Enter your country:\")\n",
        "location = city +\",\"+country\n",
        "print(\"You are in:\",location)"
      ],
      "metadata": {
        "colab": {
          "base_uri": "https://localhost:8080/"
        },
        "id": "xCrzmhaIRrOP",
        "outputId": "320e8afa-8998-4c18-f72c-ab2d6037945c"
      },
      "execution_count": 12,
      "outputs": [
        {
          "output_type": "stream",
          "name": "stdout",
          "text": [
            "Enter your city:New Haven\n",
            "Enter your country:USA\n",
            "You are in: New Haven,USA\n"
          ]
        }
      ]
    },
    {
      "cell_type": "code",
      "source": [
        "# Multiple inputs\n",
        "name, age = input(\"Enter your name and age sperated by space:\").split()\n",
        "print(f\"my name is {name} and my age is {age}\")\n"
      ],
      "metadata": {
        "colab": {
          "base_uri": "https://localhost:8080/"
        },
        "id": "5B2YzLBQTSV8",
        "outputId": "496c30a4-0d28-4b88-b64a-f6840690ad87"
      },
      "execution_count": 13,
      "outputs": [
        {
          "output_type": "stream",
          "name": "stdout",
          "text": [
            "Enter your name and age sperated by space:Alaa 55\n",
            "my name is Alaa and my age is 55\n"
          ]
        }
      ]
    },
    {
      "cell_type": "code",
      "source": [],
      "metadata": {
        "id": "ZY2u1_1kIvD7"
      },
      "execution_count": null,
      "outputs": []
    },
    {
      "cell_type": "code",
      "source": [],
      "metadata": {
        "id": "PFZYB6jHMSuV"
      },
      "execution_count": null,
      "outputs": []
    }
  ]
}